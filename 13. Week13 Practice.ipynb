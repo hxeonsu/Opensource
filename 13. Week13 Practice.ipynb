{
  "nbformat": 4,
  "nbformat_minor": 0,
  "metadata": {
    "colab": {
      "provenance": []
    },
    "kernelspec": {
      "name": "python3",
      "display_name": "Python 3"
    },
    "language_info": {
      "name": "python"
    }
  },
  "cells": [
    {
      "cell_type": "code",
      "execution_count": 1,
      "metadata": {
        "colab": {
          "base_uri": "https://localhost:8080/"
        },
        "id": "_3pZNBdtSjtT",
        "outputId": "15f3064e-26da-4b82-9ddf-2f55c494649d"
      },
      "outputs": [
        {
          "output_type": "execute_result",
          "data": {
            "text/plain": [
              "[1, 2, 3, 4]"
            ]
          },
          "metadata": {},
          "execution_count": 1
        }
      ],
      "source": [
        "a = [1, 2, 3]\n",
        "b = a\n",
        "a.append(4)\n",
        "b"
      ]
    },
    {
      "cell_type": "code",
      "source": [
        "class Gizmo:\n",
        "  def __init__(self):\n",
        "    print('Gizmo id: %d' % id(self))"
      ],
      "metadata": {
        "id": "sZeyd0xASu7I"
      },
      "execution_count": 2,
      "outputs": []
    },
    {
      "cell_type": "code",
      "source": [
        "x = Gizmo()"
      ],
      "metadata": {
        "colab": {
          "base_uri": "https://localhost:8080/"
        },
        "id": "BFqknnLPYzhO",
        "outputId": "b0f85368-5d44-42f9-e4ed-22e665188c91"
      },
      "execution_count": 3,
      "outputs": [
        {
          "output_type": "stream",
          "name": "stdout",
          "text": [
            "Gizmo id: 131965495226144\n"
          ]
        }
      ]
    },
    {
      "cell_type": "code",
      "source": [
        "y = Gizmo() * 10"
      ],
      "metadata": {
        "colab": {
          "base_uri": "https://localhost:8080/",
          "height": 162
        },
        "id": "4lpI1rjIY8Kz",
        "outputId": "8a67ecd4-aa70-4c9f-cbb0-ac1756abaabc"
      },
      "execution_count": 4,
      "outputs": [
        {
          "output_type": "stream",
          "name": "stdout",
          "text": [
            "Gizmo id: 131965495224560\n"
          ]
        },
        {
          "output_type": "error",
          "ename": "TypeError",
          "evalue": "unsupported operand type(s) for *: 'Gizmo' and 'int'",
          "traceback": [
            "\u001b[0;31m---------------------------------------------------------------------------\u001b[0m",
            "\u001b[0;31mTypeError\u001b[0m                                 Traceback (most recent call last)",
            "\u001b[0;32m<ipython-input-4-2beac7b9470d>\u001b[0m in \u001b[0;36m<cell line: 1>\u001b[0;34m()\u001b[0m\n\u001b[0;32m----> 1\u001b[0;31m \u001b[0my\u001b[0m \u001b[0;34m=\u001b[0m \u001b[0mGizmo\u001b[0m\u001b[0;34m(\u001b[0m\u001b[0;34m)\u001b[0m \u001b[0;34m*\u001b[0m \u001b[0;36m10\u001b[0m\u001b[0;34m\u001b[0m\u001b[0;34m\u001b[0m\u001b[0m\n\u001b[0m",
            "\u001b[0;31mTypeError\u001b[0m: unsupported operand type(s) for *: 'Gizmo' and 'int'"
          ]
        }
      ]
    },
    {
      "cell_type": "code",
      "source": [
        "dir()"
      ],
      "metadata": {
        "colab": {
          "base_uri": "https://localhost:8080/"
        },
        "id": "KdJ1tdP4Yl1H",
        "outputId": "031df524-84e3-44bc-dc81-1254191c866f"
      },
      "execution_count": 5,
      "outputs": [
        {
          "output_type": "execute_result",
          "data": {
            "text/plain": [
              "['Gizmo',\n",
              " 'In',\n",
              " 'Out',\n",
              " '_',\n",
              " '_1',\n",
              " '__',\n",
              " '___',\n",
              " '__builtin__',\n",
              " '__builtins__',\n",
              " '__doc__',\n",
              " '__loader__',\n",
              " '__name__',\n",
              " '__package__',\n",
              " '__spec__',\n",
              " '_dh',\n",
              " '_i',\n",
              " '_i1',\n",
              " '_i2',\n",
              " '_i3',\n",
              " '_i4',\n",
              " '_i5',\n",
              " '_ih',\n",
              " '_ii',\n",
              " '_iii',\n",
              " '_oh',\n",
              " 'a',\n",
              " 'b',\n",
              " 'exit',\n",
              " 'get_ipython',\n",
              " 'quit',\n",
              " 'x']"
            ]
          },
          "metadata": {},
          "execution_count": 5
        }
      ]
    },
    {
      "cell_type": "code",
      "source": [
        "charles = {'name': 'Charles L. Dodgson', 'born': 1832}\n",
        "lewis = charles"
      ],
      "metadata": {
        "id": "dKimpvd4Tfa4"
      },
      "execution_count": 6,
      "outputs": []
    },
    {
      "cell_type": "code",
      "source": [
        "lewis is charles"
      ],
      "metadata": {
        "colab": {
          "base_uri": "https://localhost:8080/"
        },
        "id": "hSm3TswcTwHA",
        "outputId": "6c5e04ab-9162-4f6e-b28e-41c89aeebd36"
      },
      "execution_count": 7,
      "outputs": [
        {
          "output_type": "execute_result",
          "data": {
            "text/plain": [
              "True"
            ]
          },
          "metadata": {},
          "execution_count": 7
        }
      ]
    },
    {
      "cell_type": "code",
      "source": [
        "id(charles), id(lewis)"
      ],
      "metadata": {
        "colab": {
          "base_uri": "https://localhost:8080/"
        },
        "id": "Eojz_XmITyf4",
        "outputId": "cb99bda9-a216-4c18-b0ee-8a2942e2a5ee"
      },
      "execution_count": 8,
      "outputs": [
        {
          "output_type": "execute_result",
          "data": {
            "text/plain": [
              "(131965494378624, 131965494378624)"
            ]
          },
          "metadata": {},
          "execution_count": 8
        }
      ]
    },
    {
      "cell_type": "code",
      "source": [
        "lewis['balance'] = 950 # lewis에 항목을 추가하는 것은 charles에 항목을 추가하는 것과 동일\n",
        "charles"
      ],
      "metadata": {
        "colab": {
          "base_uri": "https://localhost:8080/"
        },
        "id": "73hCqjLLT3rQ",
        "outputId": "35081acb-0b78-40ef-c97d-faa8e382253a"
      },
      "execution_count": 9,
      "outputs": [
        {
          "output_type": "execute_result",
          "data": {
            "text/plain": [
              "{'name': 'Charles L. Dodgson', 'born': 1832, 'balance': 950}"
            ]
          },
          "metadata": {},
          "execution_count": 9
        }
      ]
    },
    {
      "cell_type": "code",
      "source": [
        "alex = {'name': 'Charles L. Dodgson', 'born': 1832, 'balance': 950}\n",
        "alex == charles"
      ],
      "metadata": {
        "colab": {
          "base_uri": "https://localhost:8080/"
        },
        "id": "qam1B6-0UE2R",
        "outputId": "11ad01d7-b1a9-44b7-d35d-59648ef87e0f"
      },
      "execution_count": 10,
      "outputs": [
        {
          "output_type": "execute_result",
          "data": {
            "text/plain": [
              "True"
            ]
          },
          "metadata": {},
          "execution_count": 10
        }
      ]
    },
    {
      "cell_type": "code",
      "source": [
        "alex is charles"
      ],
      "metadata": {
        "colab": {
          "base_uri": "https://localhost:8080/"
        },
        "id": "WLqAwfd9UUOo",
        "outputId": "e268b4f4-afad-4714-ea4b-f3b7a0324aab"
      },
      "execution_count": 11,
      "outputs": [
        {
          "output_type": "execute_result",
          "data": {
            "text/plain": [
              "False"
            ]
          },
          "metadata": {},
          "execution_count": 11
        }
      ]
    },
    {
      "cell_type": "code",
      "source": [
        "t1 = (1, 2, [30,40])\n",
        "t2 = (1, 2, [30,40])\n",
        "t1 == t2, t1 is t2"
      ],
      "metadata": {
        "colab": {
          "base_uri": "https://localhost:8080/"
        },
        "id": "HorFaD49UaXg",
        "outputId": "723dda20-71c0-4ffe-dbb8-d626981d05f3"
      },
      "execution_count": 12,
      "outputs": [
        {
          "output_type": "execute_result",
          "data": {
            "text/plain": [
              "(True, False)"
            ]
          },
          "metadata": {},
          "execution_count": 12
        }
      ]
    },
    {
      "cell_type": "code",
      "source": [
        "id(t1[-1])"
      ],
      "metadata": {
        "colab": {
          "base_uri": "https://localhost:8080/"
        },
        "id": "epYbqOI3UnuI",
        "outputId": "949cac1d-5d16-41c0-d591-a0cd22e986d4"
      },
      "execution_count": 13,
      "outputs": [
        {
          "output_type": "execute_result",
          "data": {
            "text/plain": [
              "131965495978688"
            ]
          },
          "metadata": {},
          "execution_count": 13
        }
      ]
    },
    {
      "cell_type": "code",
      "source": [
        "t1[-1].append(99)\n",
        "t1, id(t1[-1])"
      ],
      "metadata": {
        "colab": {
          "base_uri": "https://localhost:8080/"
        },
        "id": "4sMmZy2vUsBZ",
        "outputId": "e8696773-9ca3-443c-bae2-68dc7dfd180a"
      },
      "execution_count": 14,
      "outputs": [
        {
          "output_type": "execute_result",
          "data": {
            "text/plain": [
              "((1, 2, [30, 40, 99]), 131965495978688)"
            ]
          },
          "metadata": {},
          "execution_count": 14
        }
      ]
    },
    {
      "cell_type": "code",
      "source": [
        "t1 == t2"
      ],
      "metadata": {
        "colab": {
          "base_uri": "https://localhost:8080/"
        },
        "id": "QEaLjpg_U2-5",
        "outputId": "594c5afa-b999-4f5e-f192-f6113a6fac1a"
      },
      "execution_count": 15,
      "outputs": [
        {
          "output_type": "execute_result",
          "data": {
            "text/plain": [
              "False"
            ]
          },
          "metadata": {},
          "execution_count": 15
        }
      ]
    },
    {
      "cell_type": "code",
      "source": [
        "l1 = [3, [66,55,44],(7,8,9)]\n",
        "l2 = list(l1)"
      ],
      "metadata": {
        "id": "75JtAzBGU45r"
      },
      "execution_count": 16,
      "outputs": []
    },
    {
      "cell_type": "code",
      "source": [
        "l1.append(100)"
      ],
      "metadata": {
        "id": "r5EOKySyVGXx"
      },
      "execution_count": 17,
      "outputs": []
    },
    {
      "cell_type": "code",
      "source": [
        "l1[1].remove(55)\n",
        "print('l1:', l1)\n",
        "print('l2:', l2)"
      ],
      "metadata": {
        "colab": {
          "base_uri": "https://localhost:8080/"
        },
        "id": "sejVlQF_VJKJ",
        "outputId": "b44a02f8-830e-4dfa-a515-fe020a709d5b"
      },
      "execution_count": 18,
      "outputs": [
        {
          "output_type": "stream",
          "name": "stdout",
          "text": [
            "l1: [3, [66, 44], (7, 8, 9), 100]\n",
            "l2: [3, [66, 44], (7, 8, 9)]\n"
          ]
        }
      ]
    },
    {
      "cell_type": "code",
      "source": [
        "l2[1] += [33,22]"
      ],
      "metadata": {
        "id": "KYM8DGH0VTeC"
      },
      "execution_count": 19,
      "outputs": []
    },
    {
      "cell_type": "code",
      "source": [
        "l2[2] += (10,11)\n",
        "\n",
        "print('l1:', l1)\n",
        "print('l2:', l2)"
      ],
      "metadata": {
        "colab": {
          "base_uri": "https://localhost:8080/"
        },
        "id": "kB30-gKXVXhI",
        "outputId": "be68e89a-5dde-4965-f9fd-6491be1db172"
      },
      "execution_count": 20,
      "outputs": [
        {
          "output_type": "stream",
          "name": "stdout",
          "text": [
            "l1: [3, [66, 44, 33, 22], (7, 8, 9), 100]\n",
            "l2: [3, [66, 44, 33, 22], (7, 8, 9, 10, 11)]\n"
          ]
        }
      ]
    },
    {
      "cell_type": "code",
      "source": [
        "class Bus:\n",
        "  def __init__(self, passengers=None):\n",
        "    if passengers is None:\n",
        "      self.passengers = []\n",
        "    else:\n",
        "      self.passengers = list(passengers)\n",
        "\n",
        "  def pick(self, name):\n",
        "    self.passengers.append(name)\n",
        "\n",
        "  def drop(self, name):\n",
        "    self.passengers.remove(name)"
      ],
      "metadata": {
        "id": "ZcFmR9qUVgWx"
      },
      "execution_count": 21,
      "outputs": []
    },
    {
      "cell_type": "code",
      "source": [
        "import copy\n",
        "bus1 = Bus(['Alice', 'Bill', 'Claire', 'David'])\n",
        "bus2 = copy.copy(bus1)\n",
        "bus3 = copy.deepcopy(bus1)\n",
        "id(bus1), id(bus2), id(bus3)"
      ],
      "metadata": {
        "colab": {
          "base_uri": "https://localhost:8080/"
        },
        "id": "VXGUYZmAV6px",
        "outputId": "1a1aea52-7347-42dc-9961-2bf4ef66c77f"
      },
      "execution_count": 22,
      "outputs": [
        {
          "output_type": "execute_result",
          "data": {
            "text/plain": [
              "(131965495229984, 131965494326512, 131965494317920)"
            ]
          },
          "metadata": {},
          "execution_count": 22
        }
      ]
    },
    {
      "cell_type": "code",
      "source": [
        "bus1.drop('Bill')\n",
        "bus1.passengers, bus2.passengers, bus3.passengers"
      ],
      "metadata": {
        "colab": {
          "base_uri": "https://localhost:8080/"
        },
        "id": "uSCqgzkRWWkS",
        "outputId": "a54ede79-9711-4767-914f-65c3e5ee9ae1"
      },
      "execution_count": 23,
      "outputs": [
        {
          "output_type": "execute_result",
          "data": {
            "text/plain": [
              "(['Alice', 'Claire', 'David'],\n",
              " ['Alice', 'Claire', 'David'],\n",
              " ['Alice', 'Bill', 'Claire', 'David'])"
            ]
          },
          "metadata": {},
          "execution_count": 23
        }
      ]
    },
    {
      "cell_type": "code",
      "source": [
        "id(bus1.passengers), id(bus2.passengers), id(bus3.passengers)\n",
        "# bus1과 bus2가 동일 리스트를 공유한다. 반면 bus3는 다른 리스트를 가리킨다."
      ],
      "metadata": {
        "colab": {
          "base_uri": "https://localhost:8080/"
        },
        "id": "4_E4vcEPWgdY",
        "outputId": "25a56dae-d3c7-4059-c756-b3142693801d"
      },
      "execution_count": 24,
      "outputs": [
        {
          "output_type": "execute_result",
          "data": {
            "text/plain": [
              "(131965494297728, 131965494297728, 131965494357632)"
            ]
          },
          "metadata": {},
          "execution_count": 24
        }
      ]
    },
    {
      "cell_type": "code",
      "source": [
        "a = [10, 20]\n",
        "b = [a, 30]\n",
        "a.append(b)\n",
        "a"
      ],
      "metadata": {
        "colab": {
          "base_uri": "https://localhost:8080/"
        },
        "id": "FD4L5vnEWwdA",
        "outputId": "c3476cb0-e0e0-48f9-f14e-b6a9fbe8ada9"
      },
      "execution_count": 25,
      "outputs": [
        {
          "output_type": "execute_result",
          "data": {
            "text/plain": [
              "[10, 20, [[...], 30]]"
            ]
          },
          "metadata": {},
          "execution_count": 25
        }
      ]
    },
    {
      "cell_type": "code",
      "source": [
        "c = copy.deepcopy(a)\n",
        "c"
      ],
      "metadata": {
        "colab": {
          "base_uri": "https://localhost:8080/"
        },
        "id": "xPYhsWlQW3nY",
        "outputId": "67addff3-8a2e-44ab-f699-2d9f4202d1fe"
      },
      "execution_count": 26,
      "outputs": [
        {
          "output_type": "execute_result",
          "data": {
            "text/plain": [
              "[10, 20, [[...], 30]]"
            ]
          },
          "metadata": {},
          "execution_count": 26
        }
      ]
    },
    {
      "cell_type": "code",
      "source": [
        "def f(a,b):\n",
        "  a += b\n",
        "  return a"
      ],
      "metadata": {
        "id": "kxnes0gwW8Dg"
      },
      "execution_count": 27,
      "outputs": []
    },
    {
      "cell_type": "code",
      "source": [
        "x = 1\n",
        "y = 2\n",
        "f(x, y), (x, y)"
      ],
      "metadata": {
        "colab": {
          "base_uri": "https://localhost:8080/"
        },
        "id": "7Wr_BZybXByB",
        "outputId": "9352171e-b6f9-4111-f80f-4fc4835d8809"
      },
      "execution_count": 28,
      "outputs": [
        {
          "output_type": "execute_result",
          "data": {
            "text/plain": [
              "(3, (1, 2))"
            ]
          },
          "metadata": {},
          "execution_count": 28
        }
      ]
    },
    {
      "cell_type": "code",
      "source": [
        "a = [1,2]\n",
        "b = [3,4]\n",
        "f(a, b), (a, b)"
      ],
      "metadata": {
        "colab": {
          "base_uri": "https://localhost:8080/"
        },
        "id": "7gRRJNGTXGbw",
        "outputId": "968081b6-0d64-4ea6-d746-a2d174616840"
      },
      "execution_count": 29,
      "outputs": [
        {
          "output_type": "execute_result",
          "data": {
            "text/plain": [
              "([1, 2, 3, 4], ([1, 2, 3, 4], [3, 4]))"
            ]
          },
          "metadata": {},
          "execution_count": 29
        }
      ]
    },
    {
      "cell_type": "code",
      "source": [
        "t = (10,20)\n",
        "u = (30, 40)\n",
        "f(t, u), (t, u)"
      ],
      "metadata": {
        "colab": {
          "base_uri": "https://localhost:8080/"
        },
        "id": "ktVcc1eYXL9p",
        "outputId": "95fd2555-7243-4804-9569-45acbc698190"
      },
      "execution_count": 30,
      "outputs": [
        {
          "output_type": "execute_result",
          "data": {
            "text/plain": [
              "((10, 20, 30, 40), ((10, 20), (30, 40)))"
            ]
          },
          "metadata": {},
          "execution_count": 30
        }
      ]
    },
    {
      "cell_type": "code",
      "source": [
        "class HauntedBus:\n",
        "  \"\"\"유령 승객이 출몰하는 버스 모델\"\"\"\n",
        "\n",
        "  def __init__(self, passengers=[]):\n",
        "    # [] 가 intepret 단계에서 생성되며 모든 인스턴스들이 같은 대상을 참조하게 되어 오류 발생\n",
        "    self.passengers = passengers\n",
        "\n",
        "  def pick(self, name):\n",
        "    self.passengers.append(name)\n",
        "\n",
        "  def drop(self, name):\n",
        "    self.passengers.remove(name)"
      ],
      "metadata": {
        "id": "7n2Ne3wIXaVZ"
      },
      "execution_count": 31,
      "outputs": []
    },
    {
      "cell_type": "code",
      "source": [
        "bus1 = HauntedBus(['Alice', 'Bill'])\n",
        "bus1.passengers"
      ],
      "metadata": {
        "colab": {
          "base_uri": "https://localhost:8080/"
        },
        "id": "X7mqvIdrX5DR",
        "outputId": "704aeef9-660d-44e9-cca9-00beb89b5abb"
      },
      "execution_count": 32,
      "outputs": [
        {
          "output_type": "execute_result",
          "data": {
            "text/plain": [
              "['Alice', 'Bill']"
            ]
          },
          "metadata": {},
          "execution_count": 32
        }
      ]
    },
    {
      "cell_type": "code",
      "source": [
        "bus1.pick('Charlie')\n",
        "bus1.drop('Alice')\n",
        "bus1.passengers"
      ],
      "metadata": {
        "colab": {
          "base_uri": "https://localhost:8080/"
        },
        "id": "fFOpld3TYAOo",
        "outputId": "d14cb47a-5272-4720-cd98-56cc7570d9ba"
      },
      "execution_count": 33,
      "outputs": [
        {
          "output_type": "execute_result",
          "data": {
            "text/plain": [
              "['Bill', 'Charlie']"
            ]
          },
          "metadata": {},
          "execution_count": 33
        }
      ]
    },
    {
      "cell_type": "code",
      "source": [
        "bus2 = HauntedBus()\n",
        "bus2.pick('Carrie')\n",
        "bus2.passengers"
      ],
      "metadata": {
        "colab": {
          "base_uri": "https://localhost:8080/"
        },
        "id": "uXNrlnQTYGsg",
        "outputId": "68a14f83-740b-4b37-c79b-8b8eb83a1c7d"
      },
      "execution_count": 34,
      "outputs": [
        {
          "output_type": "execute_result",
          "data": {
            "text/plain": [
              "['Carrie']"
            ]
          },
          "metadata": {},
          "execution_count": 34
        }
      ]
    },
    {
      "cell_type": "code",
      "source": [
        "bus3 = HauntedBus()\n",
        "bus3.passengers # 초기값이 더이상 empty가 아님!"
      ],
      "metadata": {
        "colab": {
          "base_uri": "https://localhost:8080/"
        },
        "id": "3HJtYbSFYNQB",
        "outputId": "f47540a5-f24d-45f5-eb9d-a57a43eb6270"
      },
      "execution_count": 35,
      "outputs": [
        {
          "output_type": "execute_result",
          "data": {
            "text/plain": [
              "['Carrie']"
            ]
          },
          "metadata": {},
          "execution_count": 35
        }
      ]
    },
    {
      "cell_type": "code",
      "source": [
        "bus3.pick('Dave')\n",
        "bus2.passengers"
      ],
      "metadata": {
        "colab": {
          "base_uri": "https://localhost:8080/"
        },
        "id": "zWg1quM-YTNI",
        "outputId": "b7fe6a63-f624-43b7-bfb3-d6713753b282"
      },
      "execution_count": 36,
      "outputs": [
        {
          "output_type": "execute_result",
          "data": {
            "text/plain": [
              "['Carrie', 'Dave']"
            ]
          },
          "metadata": {},
          "execution_count": 36
        }
      ]
    },
    {
      "cell_type": "code",
      "source": [
        "bus2.passengers is bus3.passengers"
      ],
      "metadata": {
        "colab": {
          "base_uri": "https://localhost:8080/"
        },
        "id": "1fJd2o2MYVpg",
        "outputId": "9b5b7c9d-dd98-4963-d4da-ec580095f8aa"
      },
      "execution_count": 37,
      "outputs": [
        {
          "output_type": "execute_result",
          "data": {
            "text/plain": [
              "True"
            ]
          },
          "metadata": {},
          "execution_count": 37
        }
      ]
    },
    {
      "cell_type": "code",
      "source": [
        "bus1.passengers"
      ],
      "metadata": {
        "colab": {
          "base_uri": "https://localhost:8080/"
        },
        "id": "3PvadRiWYhX4",
        "outputId": "19b9849b-86fc-4abd-8b4f-14564fa497fc"
      },
      "execution_count": 38,
      "outputs": [
        {
          "output_type": "execute_result",
          "data": {
            "text/plain": [
              "['Bill', 'Charlie']"
            ]
          },
          "metadata": {},
          "execution_count": 38
        }
      ]
    },
    {
      "cell_type": "code",
      "source": [
        "class TwilightBus:\n",
        "  \"\"\"승객이 사라지게 만드는 버스 모델\"\"\"\n",
        "\n",
        "  def __init__(self, passengers=None):\n",
        "    if passengers is None:\n",
        "      self.passengers = []\n",
        "    else:\n",
        "      self.passengers = passengers # 사본 생성이 아니라 인수를 별명으로 사용\n",
        "\n",
        "  def pick(self, name):\n",
        "    self.passengers.append(name)\n",
        "\n",
        "  def drop(self, name):\n",
        "    self.passengers.remove(name)"
      ],
      "metadata": {
        "id": "jI8A7D8aYkQZ"
      },
      "execution_count": 39,
      "outputs": []
    },
    {
      "cell_type": "code",
      "source": [
        "basketball_team = ['Sue', 'Tina', 'Maya', 'Diana', 'Pat']\n",
        "bus = TwilightBus(basketball_team)\n",
        "bus.drop('Tina')\n",
        "bus.drop('Pat')\n",
        "basketball_team # 선수단이 변경되어 버림"
      ],
      "metadata": {
        "colab": {
          "base_uri": "https://localhost:8080/"
        },
        "id": "WlS12GCeZD56",
        "outputId": "90bd21ec-cd88-4552-c6ee-dbde0b891c0b"
      },
      "execution_count": 40,
      "outputs": [
        {
          "output_type": "execute_result",
          "data": {
            "text/plain": [
              "['Sue', 'Maya', 'Diana']"
            ]
          },
          "metadata": {},
          "execution_count": 40
        }
      ]
    },
    {
      "cell_type": "code",
      "source": [
        "class TwilightBus:\n",
        "  \"\"\"승객이 사라지게 만드는 버스 모델\"\"\"\n",
        "\n",
        "  def __init__(self, passengers=None):\n",
        "    if passengers is None:\n",
        "      self.passengers = []\n",
        "    else:\n",
        "      self.passengers = list(passengers)\n",
        "\n",
        "  def pick(self, name):\n",
        "    self.passengers.append(name)\n",
        "\n",
        "  def drop(self, name):\n",
        "    self.passengers.remove(name)"
      ],
      "metadata": {
        "id": "ER8iNXThZVH6"
      },
      "execution_count": 41,
      "outputs": []
    },
    {
      "cell_type": "code",
      "source": [
        "basketball_team = ['Sue', 'Tina', 'Maya', 'Diana', 'Pat']\n",
        "bus = TwilightBus(basketball_team)\n",
        "bus.drop('Tina')\n",
        "bus.drop('Pat')\n",
        "basketball_team"
      ],
      "metadata": {
        "colab": {
          "base_uri": "https://localhost:8080/"
        },
        "id": "Zrc7FGEuaL7Y",
        "outputId": "1cfbf8df-602b-4f01-d7b4-be61ad4493ce"
      },
      "execution_count": 42,
      "outputs": [
        {
          "output_type": "execute_result",
          "data": {
            "text/plain": [
              "['Sue', 'Tina', 'Maya', 'Diana', 'Pat']"
            ]
          },
          "metadata": {},
          "execution_count": 42
        }
      ]
    },
    {
      "cell_type": "code",
      "source": [
        "import weakref\n",
        "s1 = {1, 2, 3}\n",
        "s2 = s1\n",
        "def bye():\n",
        "  print('Gone with the wind...')"
      ],
      "metadata": {
        "id": "P-FQJtPuaOaB"
      },
      "execution_count": 43,
      "outputs": []
    },
    {
      "cell_type": "code",
      "source": [
        "ender = weakref.finalize(s1, bye)\n",
        "ender.alive"
      ],
      "metadata": {
        "colab": {
          "base_uri": "https://localhost:8080/"
        },
        "id": "1vpmHgP-cUH5",
        "outputId": "1bf0073f-44a3-4721-80e7-37a768720fa3"
      },
      "execution_count": 44,
      "outputs": [
        {
          "output_type": "execute_result",
          "data": {
            "text/plain": [
              "True"
            ]
          },
          "metadata": {},
          "execution_count": 44
        }
      ]
    },
    {
      "cell_type": "code",
      "source": [
        "del s1\n",
        "ender.alive"
      ],
      "metadata": {
        "colab": {
          "base_uri": "https://localhost:8080/"
        },
        "id": "43TD1x94cakw",
        "outputId": "d2b11af3-fd42-4667-95ef-d10b0748d766"
      },
      "execution_count": 45,
      "outputs": [
        {
          "output_type": "execute_result",
          "data": {
            "text/plain": [
              "True"
            ]
          },
          "metadata": {},
          "execution_count": 45
        }
      ]
    },
    {
      "cell_type": "code",
      "source": [
        "s2 = 'spam'"
      ],
      "metadata": {
        "id": "wPXM8M3_c1jQ"
      },
      "execution_count": 46,
      "outputs": []
    },
    {
      "cell_type": "code",
      "source": [
        "ender.alive"
      ],
      "metadata": {
        "colab": {
          "base_uri": "https://localhost:8080/"
        },
        "id": "0QpyWhtGdCHn",
        "outputId": "64da10f9-3473-4123-9a6d-ecdeffe96a37"
      },
      "execution_count": 47,
      "outputs": [
        {
          "output_type": "execute_result",
          "data": {
            "text/plain": [
              "False"
            ]
          },
          "metadata": {},
          "execution_count": 47
        }
      ]
    }
  ]
}